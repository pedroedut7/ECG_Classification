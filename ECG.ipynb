{
 "cells": [
  {
   "cell_type": "markdown",
   "id": "4efd88ac-0817-4638-b564-615c36633151",
   "metadata": {},
   "source": [
    "## Importando as bibliotecas necessarias"
   ]
  },
  {
   "cell_type": "code",
   "execution_count": 6,
   "id": "8bf3bb3d-be18-4480-862b-57eb73f6278e",
   "metadata": {
    "tags": []
   },
   "outputs": [],
   "source": [
    "import pandas as pd\n",
    "import numpy as np"
   ]
  },
  {
   "cell_type": "code",
   "execution_count": 5,
   "id": "2a1ed164-4080-489a-9952-679a72d21e4f",
   "metadata": {
    "tags": []
   },
   "outputs": [],
   "source": [
    "import os\n",
    "import matplotlib.pyplot as plt\n",
    "from sklearn.model_selection import train_test_split\n",
    "import tensorflow as tf\n",
    "from sklearn.utils import class_weight, resample\n",
    "from keras.utils import to_categorical\n",
    "from keras.metrics import Precision, Recall\n",
    "from keras import Model"
   ]
  },
  {
   "cell_type": "markdown",
   "id": "f97d4c2c-3d5c-485d-b4f8-8ab06b40016f",
   "metadata": {},
   "source": [
    "## Importando os datasets"
   ]
  },
  {
   "cell_type": "code",
   "execution_count": 8,
   "id": "f3d02680-6989-4418-89e7-9ef1214df4e6",
   "metadata": {
    "tags": []
   },
   "outputs": [],
   "source": [
    "normal_df = pd.read_csv('C:\\\\Users\\\\lolfa\\\\OneDrive\\\\Área de Trabalho\\\\ECG\\\\ptbdb_normal.csv', header=None)\n",
    "unormal_df = pd.read_csv('C:\\\\Users\\\\lolfa\\\\OneDrive\\\\Área de Trabalho\\\\ECG\\\\ptbdb_abnormal.csv', header=None)"
   ]
  },
  {
   "cell_type": "markdown",
   "id": "c24d14c1-204f-4204-a049-c6e70c4ed008",
   "metadata": {},
   "source": [
    "### Tamanho de cada dataset"
   ]
  },
  {
   "cell_type": "code",
   "execution_count": 9,
   "id": "f16ebf4c-2eba-4205-840a-a2ca6b72b346",
   "metadata": {
    "tags": []
   },
   "outputs": [
    {
     "data": {
      "text/plain": [
       "4046"
      ]
     },
     "execution_count": 9,
     "metadata": {},
     "output_type": "execute_result"
    }
   ],
   "source": [
    "len(normal_df)"
   ]
  },
  {
   "cell_type": "code",
   "execution_count": 10,
   "id": "b2ac20b7-1b93-4692-9484-474ad9485e2b",
   "metadata": {
    "tags": []
   },
   "outputs": [
    {
     "data": {
      "text/plain": [
       "10506"
      ]
     },
     "execution_count": 10,
     "metadata": {},
     "output_type": "execute_result"
    }
   ],
   "source": [
    "len(unormal_df)"
   ]
  },
  {
   "cell_type": "markdown",
   "id": "baeba854-3a18-4eb1-845d-40e800e7badf",
   "metadata": {},
   "source": [
    "### Concatenando os datasets"
   ]
  },
  {
   "cell_type": "code",
   "execution_count": 16,
   "id": "c870bcc7-cf27-4077-b7fe-683807044215",
   "metadata": {
    "tags": []
   },
   "outputs": [],
   "source": [
    "df = pd.concat([normal_df, unormal_df])"
   ]
  },
  {
   "cell_type": "code",
   "execution_count": 17,
   "id": "35b64bf7-c0c3-45a4-9ef7-6c1244d38f96",
   "metadata": {
    "tags": []
   },
   "outputs": [
    {
     "data": {
      "text/html": [
       "<div>\n",
       "<style scoped>\n",
       "    .dataframe tbody tr th:only-of-type {\n",
       "        vertical-align: middle;\n",
       "    }\n",
       "\n",
       "    .dataframe tbody tr th {\n",
       "        vertical-align: top;\n",
       "    }\n",
       "\n",
       "    .dataframe thead th {\n",
       "        text-align: right;\n",
       "    }\n",
       "</style>\n",
       "<table border=\"1\" class=\"dataframe\">\n",
       "  <thead>\n",
       "    <tr style=\"text-align: right;\">\n",
       "      <th></th>\n",
       "      <th>0</th>\n",
       "      <th>1</th>\n",
       "      <th>2</th>\n",
       "      <th>3</th>\n",
       "      <th>4</th>\n",
       "      <th>5</th>\n",
       "      <th>6</th>\n",
       "      <th>7</th>\n",
       "      <th>8</th>\n",
       "      <th>9</th>\n",
       "      <th>...</th>\n",
       "      <th>178</th>\n",
       "      <th>179</th>\n",
       "      <th>180</th>\n",
       "      <th>181</th>\n",
       "      <th>182</th>\n",
       "      <th>183</th>\n",
       "      <th>184</th>\n",
       "      <th>185</th>\n",
       "      <th>186</th>\n",
       "      <th>187</th>\n",
       "    </tr>\n",
       "  </thead>\n",
       "  <tbody>\n",
       "    <tr>\n",
       "      <th>0</th>\n",
       "      <td>1.000000</td>\n",
       "      <td>0.900324</td>\n",
       "      <td>0.358590</td>\n",
       "      <td>0.051459</td>\n",
       "      <td>0.046596</td>\n",
       "      <td>0.126823</td>\n",
       "      <td>0.133306</td>\n",
       "      <td>0.119125</td>\n",
       "      <td>0.110616</td>\n",
       "      <td>0.113047</td>\n",
       "      <td>...</td>\n",
       "      <td>0.0</td>\n",
       "      <td>0.0</td>\n",
       "      <td>0.0</td>\n",
       "      <td>0.0</td>\n",
       "      <td>0.0</td>\n",
       "      <td>0.0</td>\n",
       "      <td>0.0</td>\n",
       "      <td>0.0</td>\n",
       "      <td>0.0</td>\n",
       "      <td>0.0</td>\n",
       "    </tr>\n",
       "    <tr>\n",
       "      <th>1</th>\n",
       "      <td>1.000000</td>\n",
       "      <td>0.794681</td>\n",
       "      <td>0.375387</td>\n",
       "      <td>0.116883</td>\n",
       "      <td>0.000000</td>\n",
       "      <td>0.171923</td>\n",
       "      <td>0.283859</td>\n",
       "      <td>0.293754</td>\n",
       "      <td>0.325912</td>\n",
       "      <td>0.345083</td>\n",
       "      <td>...</td>\n",
       "      <td>0.0</td>\n",
       "      <td>0.0</td>\n",
       "      <td>0.0</td>\n",
       "      <td>0.0</td>\n",
       "      <td>0.0</td>\n",
       "      <td>0.0</td>\n",
       "      <td>0.0</td>\n",
       "      <td>0.0</td>\n",
       "      <td>0.0</td>\n",
       "      <td>0.0</td>\n",
       "    </tr>\n",
       "    <tr>\n",
       "      <th>2</th>\n",
       "      <td>0.909029</td>\n",
       "      <td>0.791482</td>\n",
       "      <td>0.423169</td>\n",
       "      <td>0.186712</td>\n",
       "      <td>0.000000</td>\n",
       "      <td>0.007836</td>\n",
       "      <td>0.063032</td>\n",
       "      <td>0.077002</td>\n",
       "      <td>0.074957</td>\n",
       "      <td>0.077342</td>\n",
       "      <td>...</td>\n",
       "      <td>0.0</td>\n",
       "      <td>0.0</td>\n",
       "      <td>0.0</td>\n",
       "      <td>0.0</td>\n",
       "      <td>0.0</td>\n",
       "      <td>0.0</td>\n",
       "      <td>0.0</td>\n",
       "      <td>0.0</td>\n",
       "      <td>0.0</td>\n",
       "      <td>0.0</td>\n",
       "    </tr>\n",
       "    <tr>\n",
       "      <th>3</th>\n",
       "      <td>1.000000</td>\n",
       "      <td>0.478893</td>\n",
       "      <td>0.056760</td>\n",
       "      <td>0.064176</td>\n",
       "      <td>0.081289</td>\n",
       "      <td>0.072732</td>\n",
       "      <td>0.055619</td>\n",
       "      <td>0.048774</td>\n",
       "      <td>0.054478</td>\n",
       "      <td>0.041643</td>\n",
       "      <td>...</td>\n",
       "      <td>0.0</td>\n",
       "      <td>0.0</td>\n",
       "      <td>0.0</td>\n",
       "      <td>0.0</td>\n",
       "      <td>0.0</td>\n",
       "      <td>0.0</td>\n",
       "      <td>0.0</td>\n",
       "      <td>0.0</td>\n",
       "      <td>0.0</td>\n",
       "      <td>0.0</td>\n",
       "    </tr>\n",
       "    <tr>\n",
       "      <th>4</th>\n",
       "      <td>1.000000</td>\n",
       "      <td>0.867238</td>\n",
       "      <td>0.201360</td>\n",
       "      <td>0.099349</td>\n",
       "      <td>0.141336</td>\n",
       "      <td>0.120934</td>\n",
       "      <td>0.108516</td>\n",
       "      <td>0.096393</td>\n",
       "      <td>0.093436</td>\n",
       "      <td>0.100828</td>\n",
       "      <td>...</td>\n",
       "      <td>0.0</td>\n",
       "      <td>0.0</td>\n",
       "      <td>0.0</td>\n",
       "      <td>0.0</td>\n",
       "      <td>0.0</td>\n",
       "      <td>0.0</td>\n",
       "      <td>0.0</td>\n",
       "      <td>0.0</td>\n",
       "      <td>0.0</td>\n",
       "      <td>0.0</td>\n",
       "    </tr>\n",
       "  </tbody>\n",
       "</table>\n",
       "<p>5 rows × 188 columns</p>\n",
       "</div>"
      ],
      "text/plain": [
       "        0         1         2         3         4         5         6    \\\n",
       "0  1.000000  0.900324  0.358590  0.051459  0.046596  0.126823  0.133306   \n",
       "1  1.000000  0.794681  0.375387  0.116883  0.000000  0.171923  0.283859   \n",
       "2  0.909029  0.791482  0.423169  0.186712  0.000000  0.007836  0.063032   \n",
       "3  1.000000  0.478893  0.056760  0.064176  0.081289  0.072732  0.055619   \n",
       "4  1.000000  0.867238  0.201360  0.099349  0.141336  0.120934  0.108516   \n",
       "\n",
       "        7         8         9    ...  178  179  180  181  182  183  184  185  \\\n",
       "0  0.119125  0.110616  0.113047  ...  0.0  0.0  0.0  0.0  0.0  0.0  0.0  0.0   \n",
       "1  0.293754  0.325912  0.345083  ...  0.0  0.0  0.0  0.0  0.0  0.0  0.0  0.0   \n",
       "2  0.077002  0.074957  0.077342  ...  0.0  0.0  0.0  0.0  0.0  0.0  0.0  0.0   \n",
       "3  0.048774  0.054478  0.041643  ...  0.0  0.0  0.0  0.0  0.0  0.0  0.0  0.0   \n",
       "4  0.096393  0.093436  0.100828  ...  0.0  0.0  0.0  0.0  0.0  0.0  0.0  0.0   \n",
       "\n",
       "   186  187  \n",
       "0  0.0  0.0  \n",
       "1  0.0  0.0  \n",
       "2  0.0  0.0  \n",
       "3  0.0  0.0  \n",
       "4  0.0  0.0  \n",
       "\n",
       "[5 rows x 188 columns]"
      ]
     },
     "execution_count": 17,
     "metadata": {},
     "output_type": "execute_result"
    }
   ],
   "source": [
    "df.head()"
   ]
  },
  {
   "cell_type": "markdown",
   "id": "0fcdd905-0ea1-43fd-b98e-b8964c120293",
   "metadata": {
    "tags": []
   },
   "source": [
    "### Grafico de pizza das classes"
   ]
  },
  {
   "cell_type": "code",
   "execution_count": 21,
   "id": "23bd2d01-aca2-40bf-ba03-a7db9960e20a",
   "metadata": {
    "tags": []
   },
   "outputs": [
    {
     "data": {
      "image/png": "[encoded data removed]",
      "text/plain": [
       "<Figure size 800x800 with 1 Axes>"
      ]
     },
     "metadata": {},
     "output_type": "display_data"
    }
   ],
   "source": [
    "classes = df.iloc[:,187].value_counts()\n",
    "plt.figure(figsize=(8,8))\n",
    "plt.pie(classes, labels=['Unormal', 'Normal'], autopct='%1.1f%%')\n",
    "plt.show()"
   ]
  },
  {
   "cell_type": "markdown",
   "id": "034db190-e3ef-4b67-ade0-ccdea54e9146",
   "metadata": {
    "tags": []
   },
   "source": [
    "## Comparacao entre pulsos"
   ]
  },
  {
   "cell_type": "code",
   "execution_count": 23,
   "id": "92a5d630-edb4-4633-9fd5-cac2f66759c1",
   "metadata": {
    "tags": []
   },
   "outputs": [
    {
     "data": {
      "text/plain": [
       "Text(0.5, 1.0, 'UNormal')"
      ]
     },
     "execution_count": 23,
     "metadata": {},
     "output_type": "execute_result"
    },
    {
     "data": {
      "image/png": "[encoded data removed]",
      "text/plain": [
       "<Figure size 1000x1000 with 4 Axes>"
      ]
     },
     "metadata": {},
     "output_type": "display_data"
    }
   ],
   "source": [
    "fig, ax = plt.subplots(4, sharex=True, sharey=True)\n",
    "fig.set_size_inches(10,10)\n",
    "ax[0].plot(df.iloc[0,:186])\n",
    "ax[0].set_title(\"Normal\")\n",
    "ax[1].plot(df.iloc[1,:186])\n",
    "ax[1].set_title(\"Normal\")\n",
    "ax[2].plot(df.iloc[-1,:186])\n",
    "ax[2].set_title(\"UNormal\")\n",
    "ax[3].plot(df.iloc[-2,:186])\n",
    "ax[3].set_title(\"UNormal\")"
   ]
  },
  {
   "cell_type": "markdown",
   "id": "85b8feb1-24cc-415f-a57d-0c07fcfa273b",
   "metadata": {},
   "source": [
    "## Dividindo dados de treino e teste"
   ]
  },
  {
   "cell_type": "code",
   "execution_count": 29,
   "id": "e5f19447-dc60-46dd-9d0c-f098f6066415",
   "metadata": {
    "tags": []
   },
   "outputs": [],
   "source": [
    "X = df.iloc[:,:186]\n",
    "y = df.iloc[:,-1]\n",
    "trax, tesx, y_train, y_test = train_test_split(X,y,test_size=.3,random_state=42,stratify=y)"
   ]
  },
  {
   "cell_type": "code",
   "execution_count": 30,
   "id": "44daf631-f500-4031-9637-99f9014e878b",
   "metadata": {
    "tags": []
   },
   "outputs": [],
   "source": [
    "X_train = trax.values.reshape(len(trax), trax.shape[1],1)\n",
    "X_test = tesx.values.reshape(len(tesx), tesx.shape[1],1)"
   ]
  },
  {
   "cell_type": "markdown",
   "id": "335bef14-3ac6-439b-9039-25ec5b7e9c33",
   "metadata": {},
   "source": [
    "## Criando o modelo"
   ]
  },
  {
   "cell_type": "code",
   "execution_count": 31,
   "id": "66900b4c-8c01-44dc-86f4-f9b6db296adf",
   "metadata": {
    "tags": []
   },
   "outputs": [],
   "source": [
    "from keras.layers import Conv1D, MaxPooling1D, Flatten, Dense, Dropout, BatchNormalization,MultiHeadAttention,GlobalAveragePooling1D,LayerNormalization,Input\n",
    "from keras.models import Sequential"
   ]
  },
  {
   "cell_type": "code",
   "execution_count": 33,
   "id": "108dc19c-bf92-40e3-8de7-1e8c92fc5e03",
   "metadata": {
    "tags": []
   },
   "outputs": [],
   "source": [
    "cnn = Sequential([\n",
    "    Conv1D(512,3,input_shape=(X_train.shape[1],1), activation='relu'),\n",
    "    BatchNormalization(),\n",
    "    MaxPooling1D(pool_size=2),\n",
    "    Conv1D(128,3, activation='relu'),\n",
    "    BatchNormalization(),\n",
    "    MaxPooling1D(pool_size=2),\n",
    "    Conv1D(64,2, activation='relu'),\n",
    "    BatchNormalization(),\n",
    "    Conv1D(32,2, activation='selu'),\n",
    "    GlobalAveragePooling1D(),\n",
    "    Flatten(),\n",
    "    Dense(128, activation='relu'),\n",
    "    Dropout(0.5),\n",
    "    Dense(64, activation='relu'),\n",
    "    Dense(1, activation='sigmoid')\n",
    "    \n",
    "])"
   ]
  },
  {
   "cell_type": "code",
   "execution_count": 34,
   "id": "0a53e85f-8d61-4dec-8b43-4c1363e959c6",
   "metadata": {
    "tags": []
   },
   "outputs": [],
   "source": [
    "cnn.compile(loss=\"binary_crossentropy\",optimizer='adam',metrics=['accuracy',Precision(),Recall()])"
   ]
  },
  {
   "cell_type": "code",
   "execution_count": 36,
   "id": "33ba6f27-533c-4a62-b4bf-14fb7328fdd5",
   "metadata": {
    "tags": []
   },
   "outputs": [
    {
     "name": "stdout",
     "output_type": "stream",
     "text": [
      "Epoch 1/100\n",
      "255/255 [==============================] - 18s 65ms/step - loss: 0.3930 - accuracy: 0.8228 - precision: 0.8479 - recall: 0.9185 - val_loss: 1.0303 - val_accuracy: 0.7316 - val_precision: 0.7316 - val_recall: 1.0000\n",
      "Epoch 2/100\n",
      "255/255 [==============================] - 17s 67ms/step - loss: 0.2899 - accuracy: 0.8818 - precision: 0.9056 - recall: 0.9330 - val_loss: 1.3309 - val_accuracy: 0.7316 - val_precision: 0.7316 - val_recall: 1.0000\n",
      "Epoch 3/100\n",
      "255/255 [==============================] - 16s 64ms/step - loss: 0.2537 - accuracy: 0.9008 - precision: 0.9154 - recall: 0.9500 - val_loss: 2.7870 - val_accuracy: 0.4323 - val_precision: 0.9855 - val_recall: 0.2274\n",
      "Epoch 4/100\n",
      "255/255 [==============================] - 17s 66ms/step - loss: 0.2245 - accuracy: 0.9129 - precision: 0.9243 - recall: 0.9574 - val_loss: 0.9844 - val_accuracy: 0.6595 - val_precision: 0.9575 - val_recall: 0.5594\n",
      "Epoch 5/100\n",
      "255/255 [==============================] - 16s 63ms/step - loss: 0.1856 - accuracy: 0.9299 - precision: 0.9391 - recall: 0.9652 - val_loss: 0.3042 - val_accuracy: 0.8862 - val_precision: 0.9144 - val_recall: 0.9316\n",
      "Epoch 6/100\n",
      "255/255 [==============================] - 16s 63ms/step - loss: 0.1722 - accuracy: 0.9326 - precision: 0.9405 - recall: 0.9676 - val_loss: 0.3377 - val_accuracy: 0.8557 - val_precision: 0.8656 - val_recall: 0.9504\n",
      "Epoch 7/100\n",
      "255/255 [==============================] - 16s 62ms/step - loss: 0.1522 - accuracy: 0.9411 - precision: 0.9509 - recall: 0.9681 - val_loss: 0.6783 - val_accuracy: 0.7758 - val_precision: 0.9841 - val_recall: 0.7049\n",
      "Epoch 8/100\n",
      "255/255 [==============================] - 16s 62ms/step - loss: 0.1286 - accuracy: 0.9503 - precision: 0.9587 - recall: 0.9729 - val_loss: 0.8872 - val_accuracy: 0.7640 - val_precision: 0.7566 - val_recall: 0.9987\n",
      "Epoch 9/100\n",
      "255/255 [==============================] - 16s 64ms/step - loss: 0.1215 - accuracy: 0.9577 - precision: 0.9640 - recall: 0.9777 - val_loss: 0.8218 - val_accuracy: 0.7419 - val_precision: 0.9939 - val_recall: 0.6512\n",
      "Epoch 10/100\n",
      "255/255 [==============================] - 16s 64ms/step - loss: 0.1087 - accuracy: 0.9588 - precision: 0.9655 - recall: 0.9777 - val_loss: 0.1365 - val_accuracy: 0.9446 - val_precision: 0.9417 - val_recall: 0.9852\n",
      "Epoch 11/100\n",
      "255/255 [==============================] - 17s 66ms/step - loss: 0.1019 - accuracy: 0.9633 - precision: 0.9684 - recall: 0.9811 - val_loss: 1.2358 - val_accuracy: 0.7291 - val_precision: 0.7323 - val_recall: 0.9926\n",
      "Epoch 12/100\n",
      "255/255 [==============================] - 16s 65ms/step - loss: 0.0874 - accuracy: 0.9675 - precision: 0.9731 - recall: 0.9819 - val_loss: 0.5250 - val_accuracy: 0.8430 - val_precision: 0.9780 - val_recall: 0.8035\n",
      "Epoch 13/100\n",
      "255/255 [==============================] - 17s 66ms/step - loss: 0.0792 - accuracy: 0.9709 - precision: 0.9769 - recall: 0.9828 - val_loss: 1.4621 - val_accuracy: 0.7625 - val_precision: 0.7573 - val_recall: 0.9940\n",
      "Epoch 14/100\n",
      "255/255 [==============================] - 17s 65ms/step - loss: 0.0893 - accuracy: 0.9675 - precision: 0.9736 - recall: 0.9814 - val_loss: 0.0981 - val_accuracy: 0.9598 - val_precision: 0.9572 - val_recall: 0.9893\n",
      "Epoch 15/100\n",
      "255/255 [==============================] - 17s 67ms/step - loss: 0.0703 - accuracy: 0.9753 - precision: 0.9810 - recall: 0.9848 - val_loss: 1.2712 - val_accuracy: 0.7797 - val_precision: 0.7702 - val_recall: 0.9960\n",
      "Epoch 16/100\n",
      "255/255 [==============================] - 17s 65ms/step - loss: 0.0709 - accuracy: 0.9741 - precision: 0.9798 - recall: 0.9843 - val_loss: 0.2794 - val_accuracy: 0.8867 - val_precision: 0.8837 - val_recall: 0.9732\n",
      "Epoch 17/100\n",
      "255/255 [==============================] - 17s 65ms/step - loss: 0.0601 - accuracy: 0.9793 - precision: 0.9832 - recall: 0.9881 - val_loss: 0.1866 - val_accuracy: 0.9357 - val_precision: 0.9381 - val_recall: 0.9765\n",
      "Epoch 18/100\n",
      "255/255 [==============================] - 17s 67ms/step - loss: 0.0646 - accuracy: 0.9764 - precision: 0.9813 - recall: 0.9860 - val_loss: 1.0994 - val_accuracy: 0.7856 - val_precision: 0.7736 - val_recall: 0.9993\n",
      "Epoch 19/100\n",
      "255/255 [==============================] - 17s 66ms/step - loss: 0.0647 - accuracy: 0.9791 - precision: 0.9835 - recall: 0.9875 - val_loss: 0.7053 - val_accuracy: 0.8003 - val_precision: 0.7862 - val_recall: 0.9987\n",
      "Epoch 20/100\n",
      "255/255 [==============================] - 16s 64ms/step - loss: 0.0509 - accuracy: 0.9805 - precision: 0.9855 - recall: 0.9874 - val_loss: 0.2071 - val_accuracy: 0.9097 - val_precision: 0.8911 - val_recall: 0.9987\n",
      "Epoch 21/100\n",
      "255/255 [==============================] - 16s 65ms/step - loss: 0.0628 - accuracy: 0.9764 - precision: 0.9817 - recall: 0.9857 - val_loss: 0.1988 - val_accuracy: 0.9235 - val_precision: 0.9063 - val_recall: 0.9987\n",
      "Epoch 22/100\n",
      "255/255 [==============================] - 17s 67ms/step - loss: 0.0444 - accuracy: 0.9848 - precision: 0.9881 - recall: 0.9908 - val_loss: 0.4399 - val_accuracy: 0.8533 - val_precision: 0.8348 - val_recall: 0.9966\n",
      "Epoch 23/100\n",
      "255/255 [==============================] - 16s 64ms/step - loss: 0.0433 - accuracy: 0.9854 - precision: 0.9894 - recall: 0.9903 - val_loss: 1.6938 - val_accuracy: 0.6923 - val_precision: 0.9821 - val_recall: 0.5902\n",
      "Epoch 24/100\n",
      "255/255 [==============================] - 17s 65ms/step - loss: 0.0493 - accuracy: 0.9826 - precision: 0.9867 - recall: 0.9891 - val_loss: 5.3661 - val_accuracy: 0.5083 - val_precision: 0.9980 - val_recall: 0.3286\n",
      "Epoch 25/100\n",
      "255/255 [==============================] - 16s 64ms/step - loss: 0.0330 - accuracy: 0.9882 - precision: 0.9901 - recall: 0.9935 - val_loss: 2.0462 - val_accuracy: 0.6634 - val_precision: 0.9951 - val_recall: 0.5426\n",
      "Epoch 26/100\n",
      "255/255 [==============================] - 17s 66ms/step - loss: 0.0499 - accuracy: 0.9809 - precision: 0.9850 - recall: 0.9884 - val_loss: 0.5632 - val_accuracy: 0.8474 - val_precision: 0.8274 - val_recall: 1.0000\n",
      "Epoch 27/100\n",
      "255/255 [==============================] - 16s 64ms/step - loss: 0.0330 - accuracy: 0.9897 - precision: 0.9922 - recall: 0.9935 - val_loss: 1.3964 - val_accuracy: 0.7718 - val_precision: 0.7628 - val_recall: 0.9987\n",
      "Epoch 28/100\n",
      "255/255 [==============================] - 16s 64ms/step - loss: 0.0444 - accuracy: 0.9831 - precision: 0.9871 - recall: 0.9894 - val_loss: 0.4563 - val_accuracy: 0.8714 - val_precision: 0.8546 - val_recall: 0.9933\n",
      "Epoch 29/100\n",
      "255/255 [==============================] - 17s 68ms/step - loss: 0.0386 - accuracy: 0.9871 - precision: 0.9903 - recall: 0.9918 - val_loss: 0.5916 - val_accuracy: 0.8405 - val_precision: 0.8786 - val_recall: 0.9074\n",
      "Epoch 30/100\n",
      "255/255 [==============================] - 17s 66ms/step - loss: 0.0312 - accuracy: 0.9882 - precision: 0.9913 - recall: 0.9923 - val_loss: 0.1209 - val_accuracy: 0.9617 - val_precision: 0.9965 - val_recall: 0.9510\n",
      "Epoch 31/100\n",
      "255/255 [==============================] - 16s 64ms/step - loss: 0.0344 - accuracy: 0.9861 - precision: 0.9894 - recall: 0.9913 - val_loss: 0.3236 - val_accuracy: 0.9117 - val_precision: 0.9932 - val_recall: 0.8853\n",
      "Epoch 32/100\n",
      "255/255 [==============================] - 17s 65ms/step - loss: 0.0317 - accuracy: 0.9886 - precision: 0.9922 - recall: 0.9920 - val_loss: 0.6578 - val_accuracy: 0.8307 - val_precision: 0.8550 - val_recall: 0.9256\n",
      "Epoch 33/100\n",
      "255/255 [==============================] - 17s 67ms/step - loss: 0.0324 - accuracy: 0.9901 - precision: 0.9925 - recall: 0.9937 - val_loss: 0.0702 - val_accuracy: 0.9764 - val_precision: 0.9938 - val_recall: 0.9738\n",
      "Epoch 34/100\n",
      "255/255 [==============================] - 17s 66ms/step - loss: 0.0330 - accuracy: 0.9882 - precision: 0.9908 - recall: 0.9928 - val_loss: 0.1791 - val_accuracy: 0.9392 - val_precision: 0.9971 - val_recall: 0.9195\n",
      "Epoch 35/100\n",
      "255/255 [==============================] - 17s 66ms/step - loss: 0.0278 - accuracy: 0.9899 - precision: 0.9928 - recall: 0.9932 - val_loss: 1.6915 - val_accuracy: 0.7591 - val_precision: 0.7548 - val_recall: 0.9933\n",
      "Epoch 36/100\n",
      "255/255 [==============================] - 16s 64ms/step - loss: 0.0300 - accuracy: 0.9885 - precision: 0.9915 - recall: 0.9925 - val_loss: 0.0703 - val_accuracy: 0.9769 - val_precision: 0.9801 - val_recall: 0.9886\n",
      "Epoch 37/100\n",
      "255/255 [==============================] - 17s 67ms/step - loss: 0.0218 - accuracy: 0.9926 - precision: 0.9945 - recall: 0.9952 - val_loss: 0.2942 - val_accuracy: 0.9136 - val_precision: 0.8992 - val_recall: 0.9933\n",
      "Epoch 38/100\n",
      "255/255 [==============================] - 18s 69ms/step - loss: 0.0333 - accuracy: 0.9871 - precision: 0.9906 - recall: 0.9915 - val_loss: 1.2626 - val_accuracy: 0.7792 - val_precision: 0.7690 - val_recall: 0.9980\n",
      "Epoch 39/100\n",
      "255/255 [==============================] - 17s 65ms/step - loss: 0.0307 - accuracy: 0.9905 - precision: 0.9935 - recall: 0.9933 - val_loss: 0.3960 - val_accuracy: 0.8965 - val_precision: 0.9923 - val_recall: 0.8652\n",
      "Epoch 40/100\n",
      "255/255 [==============================] - 17s 67ms/step - loss: 0.0205 - accuracy: 0.9935 - precision: 0.9949 - recall: 0.9961 - val_loss: 0.0431 - val_accuracy: 0.9902 - val_precision: 0.9946 - val_recall: 0.9920\n",
      "Epoch 41/100\n",
      "255/255 [==============================] - 17s 65ms/step - loss: 0.0225 - accuracy: 0.9908 - precision: 0.9927 - recall: 0.9945 - val_loss: 0.5201 - val_accuracy: 0.8543 - val_precision: 0.8339 - val_recall: 1.0000\n",
      "Epoch 42/100\n",
      "255/255 [==============================] - 17s 65ms/step - loss: 0.0355 - accuracy: 0.9863 - precision: 0.9904 - recall: 0.9904 - val_loss: 0.0670 - val_accuracy: 0.9789 - val_precision: 0.9751 - val_recall: 0.9966\n",
      "Epoch 43/100\n",
      "255/255 [==============================] - 17s 66ms/step - loss: 0.0261 - accuracy: 0.9915 - precision: 0.9940 - recall: 0.9942 - val_loss: 0.3255 - val_accuracy: 0.9004 - val_precision: 0.8815 - val_recall: 0.9980\n",
      "Epoch 44/100\n",
      "255/255 [==============================] - 17s 66ms/step - loss: 0.0211 - accuracy: 0.9919 - precision: 0.9944 - recall: 0.9944 - val_loss: 0.1973 - val_accuracy: 0.9342 - val_precision: 0.9927 - val_recall: 0.9168\n",
      "Epoch 45/100\n",
      "255/255 [==============================] - 17s 65ms/step - loss: 0.0224 - accuracy: 0.9918 - precision: 0.9939 - recall: 0.9947 - val_loss: 0.1718 - val_accuracy: 0.9431 - val_precision: 0.9914 - val_recall: 0.9302\n",
      "Epoch 46/100\n",
      "255/255 [==============================] - 16s 64ms/step - loss: 0.0219 - accuracy: 0.9920 - precision: 0.9942 - recall: 0.9947 - val_loss: 0.2263 - val_accuracy: 0.9146 - val_precision: 0.9955 - val_recall: 0.8873\n",
      "Epoch 47/100\n",
      "255/255 [==============================] - 16s 64ms/step - loss: 0.0252 - accuracy: 0.9913 - precision: 0.9935 - recall: 0.9944 - val_loss: 0.0363 - val_accuracy: 0.9868 - val_precision: 0.9906 - val_recall: 0.9913\n",
      "Epoch 48/100\n",
      "255/255 [==============================] - 16s 64ms/step - loss: 0.0196 - accuracy: 0.9926 - precision: 0.9945 - recall: 0.9952 - val_loss: 0.1511 - val_accuracy: 0.9421 - val_precision: 0.9978 - val_recall: 0.9229\n",
      "Epoch 49/100\n",
      "255/255 [==============================] - 17s 67ms/step - loss: 0.0266 - accuracy: 0.9914 - precision: 0.9932 - recall: 0.9949 - val_loss: 1.6137 - val_accuracy: 0.8224 - val_precision: 0.8060 - val_recall: 0.9973\n",
      "Epoch 50/100\n",
      "255/255 [==============================] - 16s 65ms/step - loss: 0.0207 - accuracy: 0.9921 - precision: 0.9944 - recall: 0.9947 - val_loss: 0.0484 - val_accuracy: 0.9828 - val_precision: 0.9783 - val_recall: 0.9987\n",
      "Epoch 51/100\n",
      "255/255 [==============================] - 17s 68ms/step - loss: 0.0144 - accuracy: 0.9942 - precision: 0.9954 - recall: 0.9966 - val_loss: 0.0645 - val_accuracy: 0.9843 - val_precision: 0.9834 - val_recall: 0.9953\n",
      "Epoch 52/100\n",
      "255/255 [==============================] - 17s 65ms/step - loss: 0.0164 - accuracy: 0.9935 - precision: 0.9947 - recall: 0.9962 - val_loss: 0.0736 - val_accuracy: 0.9755 - val_precision: 0.9959 - val_recall: 0.9705\n",
      "Epoch 53/100\n",
      "255/255 [==============================] - 17s 68ms/step - loss: 0.0173 - accuracy: 0.9940 - precision: 0.9951 - recall: 0.9966 - val_loss: 1.4984 - val_accuracy: 0.7988 - val_precision: 0.7843 - val_recall: 1.0000\n",
      "Epoch 54/100\n",
      "255/255 [==============================] - 17s 66ms/step - loss: 0.0217 - accuracy: 0.9937 - precision: 0.9949 - recall: 0.9964 - val_loss: 0.1582 - val_accuracy: 0.9416 - val_precision: 0.9831 - val_recall: 0.9363\n",
      "Epoch 55/100\n",
      "255/255 [==============================] - 16s 62ms/step - loss: 0.0178 - accuracy: 0.9941 - precision: 0.9954 - recall: 0.9964 - val_loss: 0.5445 - val_accuracy: 0.8842 - val_precision: 0.8815 - val_recall: 0.9725\n",
      "Epoch 56/100\n",
      "255/255 [==============================] - 16s 61ms/step - loss: 0.0149 - accuracy: 0.9941 - precision: 0.9957 - recall: 0.9961 - val_loss: 0.7579 - val_accuracy: 0.8253 - val_precision: 0.9982 - val_recall: 0.7626\n",
      "Epoch 57/100\n",
      "255/255 [==============================] - 17s 68ms/step - loss: 0.0171 - accuracy: 0.9952 - precision: 0.9966 - recall: 0.9968 - val_loss: 0.2606 - val_accuracy: 0.9146 - val_precision: 0.9962 - val_recall: 0.8867\n",
      "Epoch 58/100\n",
      "255/255 [==============================] - 17s 67ms/step - loss: 0.0088 - accuracy: 0.9972 - precision: 0.9978 - recall: 0.9983 - val_loss: 0.7561 - val_accuracy: 0.8857 - val_precision: 0.8670 - val_recall: 0.9966\n",
      "Epoch 59/100\n",
      "255/255 [==============================] - 18s 69ms/step - loss: 0.0162 - accuracy: 0.9944 - precision: 0.9959 - recall: 0.9962 - val_loss: 0.2165 - val_accuracy: 0.9338 - val_precision: 0.9170 - val_recall: 1.0000\n",
      "Epoch 60/100\n",
      "255/255 [==============================] - 16s 64ms/step - loss: 0.0140 - accuracy: 0.9945 - precision: 0.9959 - recall: 0.9964 - val_loss: 0.8853 - val_accuracy: 0.8714 - val_precision: 0.8571 - val_recall: 0.9893\n",
      "Epoch 61/100\n",
      "255/255 [==============================] - 17s 66ms/step - loss: 0.0202 - accuracy: 0.9934 - precision: 0.9952 - recall: 0.9956 - val_loss: 0.0622 - val_accuracy: 0.9838 - val_precision: 0.9790 - val_recall: 0.9993\n",
      "Epoch 62/100\n",
      "255/255 [==============================] - 17s 67ms/step - loss: 0.0224 - accuracy: 0.9924 - precision: 0.9944 - recall: 0.9951 - val_loss: 0.4638 - val_accuracy: 0.8803 - val_precision: 0.8653 - val_recall: 0.9906\n",
      "Epoch 63/100\n",
      "255/255 [==============================] - 17s 65ms/step - loss: 0.0147 - accuracy: 0.9948 - precision: 0.9959 - recall: 0.9969 - val_loss: 0.5977 - val_accuracy: 0.8567 - val_precision: 0.9992 - val_recall: 0.8048\n",
      "Epoch 64/100\n",
      "255/255 [==============================] - 16s 65ms/step - loss: 0.0155 - accuracy: 0.9940 - precision: 0.9959 - recall: 0.9957 - val_loss: 54.9310 - val_accuracy: 0.2728 - val_precision: 1.0000 - val_recall: 0.0060\n",
      "Epoch 65/100\n",
      "255/255 [==============================] - 17s 67ms/step - loss: 0.0202 - accuracy: 0.9914 - precision: 0.9939 - recall: 0.9942 - val_loss: 0.9552 - val_accuracy: 0.7954 - val_precision: 0.8643 - val_recall: 0.8545\n",
      "Epoch 66/100\n",
      "255/255 [==============================] - 17s 67ms/step - loss: 0.0166 - accuracy: 0.9942 - precision: 0.9957 - recall: 0.9962 - val_loss: 0.2540 - val_accuracy: 0.9078 - val_precision: 0.9168 - val_recall: 0.9611\n",
      "Epoch 67/100\n",
      "255/255 [==============================] - 17s 67ms/step - loss: 0.0131 - accuracy: 0.9952 - precision: 0.9961 - recall: 0.9973 - val_loss: 0.0747 - val_accuracy: 0.9809 - val_precision: 0.9872 - val_recall: 0.9866\n",
      "Epoch 68/100\n",
      "255/255 [==============================] - 17s 65ms/step - loss: 0.0143 - accuracy: 0.9948 - precision: 0.9969 - recall: 0.9959 - val_loss: 0.8199 - val_accuracy: 0.8297 - val_precision: 0.8129 - val_recall: 0.9966\n",
      "Epoch 69/100\n",
      "255/255 [==============================] - 17s 68ms/step - loss: 0.0143 - accuracy: 0.9962 - precision: 0.9971 - recall: 0.9976 - val_loss: 0.1461 - val_accuracy: 0.9637 - val_precision: 0.9545 - val_recall: 0.9980\n",
      "Epoch 70/100\n",
      "255/255 [==============================] - 16s 64ms/step - loss: 0.0100 - accuracy: 0.9967 - precision: 0.9974 - recall: 0.9980 - val_loss: 0.1092 - val_accuracy: 0.9671 - val_precision: 0.9958 - val_recall: 0.9591\n",
      "Epoch 71/100\n",
      "255/255 [==============================] - 17s 65ms/step - loss: 0.0150 - accuracy: 0.9947 - precision: 0.9966 - recall: 0.9961 - val_loss: 0.2997 - val_accuracy: 0.9190 - val_precision: 0.9397 - val_recall: 0.9504\n",
      "Epoch 72/100\n",
      "255/255 [==============================] - 18s 69ms/step - loss: 0.0132 - accuracy: 0.9953 - precision: 0.9968 - recall: 0.9968 - val_loss: 0.0822 - val_accuracy: 0.9740 - val_precision: 0.9952 - val_recall: 0.9691\n",
      "Epoch 73/100\n",
      "255/255 [==============================] - 17s 68ms/step - loss: 0.0142 - accuracy: 0.9946 - precision: 0.9962 - recall: 0.9962 - val_loss: 0.3942 - val_accuracy: 0.9112 - val_precision: 0.9332 - val_recall: 0.9463\n",
      "Epoch 74/100\n",
      "255/255 [==============================] - 18s 71ms/step - loss: 0.0119 - accuracy: 0.9953 - precision: 0.9966 - recall: 0.9969 - val_loss: 0.1047 - val_accuracy: 0.9622 - val_precision: 0.9532 - val_recall: 0.9973\n",
      "Epoch 75/100\n",
      "255/255 [==============================] - 18s 69ms/step - loss: 0.0179 - accuracy: 0.9952 - precision: 0.9961 - recall: 0.9973 - val_loss: 3.3762 - val_accuracy: 0.5942 - val_precision: 0.9985 - val_recall: 0.4460\n",
      "Epoch 76/100\n",
      "255/255 [==============================] - 18s 69ms/step - loss: 0.0100 - accuracy: 0.9967 - precision: 0.9976 - recall: 0.9978 - val_loss: 2.0682 - val_accuracy: 0.7478 - val_precision: 0.9980 - val_recall: 0.6566\n",
      "Epoch 77/100\n",
      "255/255 [==============================] - 18s 69ms/step - loss: 0.0055 - accuracy: 0.9982 - precision: 0.9988 - recall: 0.9986 - val_loss: 0.8749 - val_accuracy: 0.8651 - val_precision: 0.8486 - val_recall: 0.9926\n",
      "Epoch 78/100\n",
      "255/255 [==============================] - 18s 69ms/step - loss: 0.0185 - accuracy: 0.9937 - precision: 0.9954 - recall: 0.9959 - val_loss: 0.2695 - val_accuracy: 0.9239 - val_precision: 0.9495 - val_recall: 0.9463\n",
      "Epoch 79/100\n",
      "255/255 [==============================] - 18s 69ms/step - loss: 0.0153 - accuracy: 0.9953 - precision: 0.9964 - recall: 0.9971 - val_loss: 3.2997 - val_accuracy: 0.6050 - val_precision: 0.9985 - val_recall: 0.4608\n",
      "Epoch 80/100\n",
      "255/255 [==============================] - 18s 69ms/step - loss: 0.0117 - accuracy: 0.9963 - precision: 0.9969 - recall: 0.9980 - val_loss: 0.0984 - val_accuracy: 0.9745 - val_precision: 0.9693 - val_recall: 0.9966\n",
      "Epoch 81/100\n",
      "255/255 [==============================] - 18s 69ms/step - loss: 0.0211 - accuracy: 0.9939 - precision: 0.9952 - recall: 0.9962 - val_loss: 0.7195 - val_accuracy: 0.8710 - val_precision: 0.9912 - val_recall: 0.8310\n",
      "Epoch 82/100\n",
      "255/255 [==============================] - 18s 69ms/step - loss: 0.0126 - accuracy: 0.9956 - precision: 0.9963 - recall: 0.9976 - val_loss: 0.1519 - val_accuracy: 0.9558 - val_precision: 0.9972 - val_recall: 0.9423\n",
      "Epoch 83/100\n",
      "255/255 [==============================] - 17s 69ms/step - loss: 0.0037 - accuracy: 0.9990 - precision: 0.9991 - recall: 0.9995 - val_loss: 0.0262 - val_accuracy: 0.9917 - val_precision: 0.9900 - val_recall: 0.9987\n",
      "Epoch 84/100\n",
      "255/255 [==============================] - 17s 66ms/step - loss: 0.0026 - accuracy: 0.9995 - precision: 0.9997 - recall: 0.9997 - val_loss: 0.0216 - val_accuracy: 0.9941 - val_precision: 0.9940 - val_recall: 0.9980\n",
      "Epoch 85/100\n",
      "255/255 [==============================] - 17s 67ms/step - loss: 0.0192 - accuracy: 0.9931 - precision: 0.9954 - recall: 0.9951 - val_loss: 0.8839 - val_accuracy: 0.8395 - val_precision: 0.8255 - val_recall: 0.9899\n",
      "Epoch 86/100\n",
      "255/255 [==============================] - 17s 68ms/step - loss: 0.0095 - accuracy: 0.9966 - precision: 0.9974 - recall: 0.9978 - val_loss: 0.0294 - val_accuracy: 0.9931 - val_precision: 0.9933 - val_recall: 0.9973\n",
      "Epoch 87/100\n",
      "255/255 [==============================] - 17s 66ms/step - loss: 0.0104 - accuracy: 0.9966 - precision: 0.9976 - recall: 0.9976 - val_loss: 1.0365 - val_accuracy: 0.8391 - val_precision: 0.8200 - val_recall: 0.9993\n",
      "Epoch 88/100\n",
      "255/255 [==============================] - 18s 70ms/step - loss: 0.0104 - accuracy: 0.9967 - precision: 0.9976 - recall: 0.9978 - val_loss: 0.2733 - val_accuracy: 0.9333 - val_precision: 0.9978 - val_recall: 0.9108\n",
      "Epoch 89/100\n",
      "255/255 [==============================] - 18s 69ms/step - loss: 0.0119 - accuracy: 0.9955 - precision: 0.9964 - recall: 0.9973 - val_loss: 0.2836 - val_accuracy: 0.9352 - val_precision: 0.9963 - val_recall: 0.9148\n",
      "Epoch 90/100\n",
      "255/255 [==============================] - 19s 74ms/step - loss: 0.0127 - accuracy: 0.9958 - precision: 0.9964 - recall: 0.9978 - val_loss: 0.0491 - val_accuracy: 0.9843 - val_precision: 0.9796 - val_recall: 0.9993\n",
      "Epoch 91/100\n",
      "255/255 [==============================] - 17s 67ms/step - loss: 0.0147 - accuracy: 0.9948 - precision: 0.9959 - recall: 0.9969 - val_loss: 0.6722 - val_accuracy: 0.8822 - val_precision: 0.9576 - val_recall: 0.8779\n",
      "Epoch 92/100\n",
      "255/255 [==============================] - 17s 67ms/step - loss: 0.0088 - accuracy: 0.9973 - precision: 0.9978 - recall: 0.9985 - val_loss: 0.3896 - val_accuracy: 0.8842 - val_precision: 0.8778 - val_recall: 0.9779\n",
      "Epoch 93/100\n",
      "255/255 [==============================] - 17s 68ms/step - loss: 0.0150 - accuracy: 0.9941 - precision: 0.9954 - recall: 0.9964 - val_loss: 0.8676 - val_accuracy: 0.8356 - val_precision: 0.8165 - val_recall: 1.0000\n",
      "Epoch 94/100\n",
      "255/255 [==============================] - 17s 66ms/step - loss: 0.0070 - accuracy: 0.9973 - precision: 0.9983 - recall: 0.9980 - val_loss: 0.9133 - val_accuracy: 0.8238 - val_precision: 0.9974 - val_recall: 0.7612\n",
      "Epoch 95/100\n",
      "255/255 [==============================] - 17s 67ms/step - loss: 0.0028 - accuracy: 0.9994 - precision: 0.9997 - recall: 0.9995 - val_loss: 0.0300 - val_accuracy: 0.9941 - val_precision: 0.9960 - val_recall: 0.9960\n",
      "Epoch 96/100\n",
      "255/255 [==============================] - 17s 66ms/step - loss: 0.0152 - accuracy: 0.9956 - precision: 0.9968 - recall: 0.9971 - val_loss: 1.2012 - val_accuracy: 0.8131 - val_precision: 0.9498 - val_recall: 0.7860\n",
      "Epoch 97/100\n",
      "255/255 [==============================] - 17s 68ms/step - loss: 0.0283 - accuracy: 0.9918 - precision: 0.9940 - recall: 0.9945 - val_loss: 0.2771 - val_accuracy: 0.9151 - val_precision: 0.9903 - val_recall: 0.8927\n",
      "Epoch 98/100\n",
      "255/255 [==============================] - 17s 66ms/step - loss: 0.0070 - accuracy: 0.9979 - precision: 0.9981 - recall: 0.9990 - val_loss: 0.0764 - val_accuracy: 0.9706 - val_precision: 0.9673 - val_recall: 0.9933\n",
      "Epoch 99/100\n",
      "255/255 [==============================] - 17s 67ms/step - loss: 0.0081 - accuracy: 0.9977 - precision: 0.9976 - recall: 0.9991 - val_loss: 0.3777 - val_accuracy: 0.9019 - val_precision: 0.8886 - val_recall: 0.9899\n",
      "Epoch 100/100\n",
      "255/255 [==============================] - 17s 66ms/step - loss: 0.0131 - accuracy: 0.9944 - precision: 0.9957 - recall: 0.9964 - val_loss: 0.2434 - val_accuracy: 0.9318 - val_precision: 0.9262 - val_recall: 0.9852\n"
     ]
    },
    {
     "data": {
      "text/plain": [
       "<keras.callbacks.History at 0x2b6707ca0e0>"
      ]
     },
     "execution_count": 36,
     "metadata": {},
     "output_type": "execute_result"
    }
   ],
   "source": [
    "cnn.fit(X_train, y_train, epochs=100, batch_size=32, validation_split=.2)"
   ]
  },
  {
   "cell_type": "code",
   "execution_count": 37,
   "id": "5c5a9656-f2d3-4e6f-b396-820f8d8ee869",
   "metadata": {
    "tags": []
   },
   "outputs": [
    {
     "name": "stdout",
     "output_type": "stream",
     "text": [
      "137/137 [==============================] - 2s 11ms/step - loss: 0.2782 - accuracy: 0.9256 - precision: 0.9221 - recall: 0.9797\n"
     ]
    }
   ],
   "source": [
    "scores = cnn.evaluate(X_test, y_test)"
   ]
  },
  {
   "cell_type": "code",
   "execution_count": null,
   "id": "19b31459-a157-43e5-b33f-e456a7ec9044",
   "metadata": {},
   "outputs": [],
   "source": []
  }
 ],
 "metadata": {
  "kernelspec": {
   "display_name": "teste",
   "language": "python",
   "name": "teste"
  },
  "language_info": {
   "codemirror_mode": {
    "name": "ipython",
    "version": 3
   },
   "file_extension": ".py",
   "mimetype": "text/x-python",
   "name": "python",
   "nbconvert_exporter": "python",
   "pygments_lexer": "ipython3",
   "version": "3.10.13"
  }
 },
 "nbformat": 4,
 "nbformat_minor": 5
}
